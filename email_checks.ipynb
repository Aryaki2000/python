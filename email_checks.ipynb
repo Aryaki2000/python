{
 "cells": [
  {
   "cell_type": "markdown",
   "id": "86d9d05d",
   "metadata": {},
   "source": [
    "# verifying the existence of an email address using python\n",
    "# "
   ]
  },
  {
   "cell_type": "code",
   "execution_count": null,
   "id": "4421810a",
   "metadata": {},
   "outputs": [],
   "source": [
    "#improting blibrarys"
   ]
  },
  {
   "cell_type": "code",
   "execution_count": null,
   "id": "474c7edd",
   "metadata": {},
   "outputs": [],
   "source": [
    "import re   ##regular expression matching\n",
    "import smtplib   ## sening email\n",
    "import dns.resolver ##DNS lookups"
   ]
  },
  {
   "cell_type": "code",
   "execution_count": null,
   "id": "471baebd",
   "metadata": {},
   "outputs": [],
   "source": [
    "\n",
    "\n",
    "# Regular expression for email syntax validation\n",
    "email_regex = r'^[\\w-]+(\\.[\\w-]+)*@(\\w+\\.)+\\w{2,}$'\n",
    "\n",
    "# Email address to verify\n",
    "input_address = input('Please enter the email address to verify: ')\n",
    "address_to_verify = str(input_address)\n",
    "\n",
    "# Syntax check\n",
    "match = re.match(email_regex, address_to_verify)\n",
    "if match is None:\n",
    "    print('Invalid Syntax')\n",
    "    raise ValueError('Invalid Syntax')\n",
    "\n",
    "# Splitting email address into username and domain\n",
    "username, domain = address_to_verify.split('@')\n",
    "\n",
    "# Checking if there is a subdomain\n",
    "subdomains = domain.split('.')\n",
    "if len(subdomains) > 3:\n",
    "    print('Invalid email address - too many subdomains')\n",
    "elif len(subdomains) == 3:\n",
    "    print('Valid email address with subdomain')\n",
    "else:\n",
    "    print('Valid email address')\n",
    "\n",
    "# Perform DNS MX record lookup for domain\n",
    "try:\n",
    "    mx_records = dns.resolver.query(domain, 'MX')\n",
    "except dns.exception.DNSException:\n",
    "    print('Error performing MX record lookup')\n",
    "    exit()\n",
    "\n",
    "# Get the highest priority MX record (the one with lowest preference value)\n",
    "mx_record = sorted(mx_records, key=lambda x: x.preference)[0].exchange.to_text()\n",
    "\n",
    "# SMTP conversation to verify email address\n",
    "try:\n",
    "    with smtplib.SMTP() as smtp:\n",
    "        smtp.set_debuglevel(0)\n",
    "        smtp.connect(mx_record)\n",
    "        smtp.helo(smtp.local_hostname)\n",
    "        smtp.mail('test@example.com')\n",
    "        code, message = smtp.rcpt(address_to_verify)\n",
    "except smtplib.SMTPException:\n",
    "    print('Error sending email')\n",
    "    exit()\n",
    "\n",
    "# Check SMTP response code to determine email verification result\n",
    "if code == 250:\n",
    "    print('Success')\n",
    "else:\n",
    "    print('Bad')\n"
   ]
  },
  {
   "cell_type": "code",
   "execution_count": null,
   "id": "a14f4b26",
   "metadata": {},
   "outputs": [],
   "source": []
  },
  {
   "cell_type": "code",
   "execution_count": null,
   "id": "b19b0272",
   "metadata": {},
   "outputs": [],
   "source": []
  },
  {
   "cell_type": "code",
   "execution_count": null,
   "id": "304afdeb",
   "metadata": {},
   "outputs": [],
   "source": []
  },
  {
   "cell_type": "code",
   "execution_count": null,
   "id": "8ecbc9b0",
   "metadata": {},
   "outputs": [],
   "source": []
  },
  {
   "cell_type": "code",
   "execution_count": null,
   "id": "55e3b86a",
   "metadata": {},
   "outputs": [],
   "source": []
  },
  {
   "cell_type": "code",
   "execution_count": null,
   "id": "97d5e860",
   "metadata": {},
   "outputs": [],
   "source": []
  }
 ],
 "metadata": {
  "kernelspec": {
   "display_name": "Python 3 (ipykernel)",
   "language": "python",
   "name": "python3"
  },
  "language_info": {
   "codemirror_mode": {
    "name": "ipython",
    "version": 3
   },
   "file_extension": ".py",
   "mimetype": "text/x-python",
   "name": "python",
   "nbconvert_exporter": "python",
   "pygments_lexer": "ipython3",
   "version": "3.11.1"
  }
 },
 "nbformat": 4,
 "nbformat_minor": 5
}
